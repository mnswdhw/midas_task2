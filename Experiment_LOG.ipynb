{
 "cells": [
  {
   "cell_type": "markdown",
   "metadata": {},
   "source": [
    "1 For Subtask 1 loaded all the images and labelled them simultaneously."
   ]
  },
  {
   "cell_type": "markdown",
   "metadata": {},
   "source": [
    "2 Checked Pillow version and using Pillow library for manipulating images"
   ]
  },
  {
   "cell_type": "markdown",
   "metadata": {},
   "source": [
    "3 Printing labels to check if some are integers and some are characters and then converting them into ascii"
   ]
  },
  {
   "cell_type": "markdown",
   "metadata": {},
   "source": [
    "4 Converting loaded images and labels into training data and y_train respectively by reshaping and converting them into numpy array"
   ]
  },
  {
   "cell_type": "markdown",
   "metadata": {},
   "source": [
    "5 Normalising inputs of training data so that values lie between 0 and 1"
   ]
  },
  {
   "cell_type": "markdown",
   "metadata": {},
   "source": [
    "6 Converting y_train into onehot vectors so that we can use it in model"
   ]
  },
  {
   "cell_type": "markdown",
   "metadata": {},
   "source": [
    "7 built the model and also tried varying batch size to 500 relaised that it leads to less model updates and consequently slower convergence even in 80 epochs the accuracy reached only 80 %"
   ]
  },
  {
   "cell_type": "markdown",
   "metadata": {},
   "source": [
    "8 Split the training data into validation set adn new test set"
   ]
  },
  {
   "cell_type": "markdown",
   "metadata": {},
   "source": [
    "9 Visualised the data"
   ]
  },
  {
   "cell_type": "markdown",
   "metadata": {},
   "source": [
    "10 Experiment with second model in which did not use dropout layer clearly the model overfit the training data and gap between validation data and training data kept increasing "
   ]
  },
  {
   "cell_type": "markdown",
   "metadata": {},
   "source": [
    "11 saving model checkpoints "
   ]
  },
  {
   "cell_type": "markdown",
   "metadata": {},
   "source": [
    "12 starting subpart 2"
   ]
  },
  {
   "cell_type": "markdown",
   "metadata": {},
   "source": [
    "13 loading only 0-9 digit images as training dataset and simultaneously labeling them"
   ]
  },
  {
   "cell_type": "markdown",
   "metadata": {},
   "source": [
    "14 Splitting training data to train_new and validation set and then experimenting with epochs and batch size for such small training size more epochs and less batch size works fine leading to more model updates"
   ]
  },
  {
   "cell_type": "markdown",
   "metadata": {},
   "source": [
    "15 Saving model weights to be used later "
   ]
  },
  {
   "cell_type": "markdown",
   "metadata": {},
   "source": [
    "16 Creating a new function to avoid writing repeated code "
   ]
  },
  {
   "cell_type": "markdown",
   "metadata": {},
   "source": [
    "17 Building a new model and updating the weights from the using the above model weights"
   ]
  },
  {
   "cell_type": "markdown",
   "metadata": {},
   "source": [
    "18 Building another model but this time starting with randomly initialsed weights "
   ]
  },
  {
   "cell_type": "markdown",
   "metadata": {},
   "source": [
    "19 Saving both the models"
   ]
  },
  {
   "cell_type": "markdown",
   "metadata": {},
   "source": [
    "20 Subtask 3 starting "
   ]
  },
  {
   "cell_type": "markdown",
   "metadata": {},
   "source": [
    "21 Loading the given images into an array and no labels given hence randomly initialsing labels"
   ]
  },
  {
   "cell_type": "markdown",
   "metadata": {},
   "source": [
    "22 Repeating above procedure from subtask2"
   ]
  }
 ],
 "metadata": {
  "kernelspec": {
   "display_name": "Python 3",
   "language": "python",
   "name": "python3"
  },
  "language_info": {
   "codemirror_mode": {
    "name": "ipython",
    "version": 3
   },
   "file_extension": ".py",
   "mimetype": "text/x-python",
   "name": "python",
   "nbconvert_exporter": "python",
   "pygments_lexer": "ipython3",
   "version": "3.6.12"
  }
 },
 "nbformat": 4,
 "nbformat_minor": 4
}
